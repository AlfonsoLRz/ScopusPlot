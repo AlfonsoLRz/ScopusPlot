{
 "cells": [
  {
   "cell_type": "code",
   "execution_count": 16,
   "metadata": {
    "collapsed": true,
    "pycharm": {
     "name": "#%%\n"
    }
   },
   "outputs": [],
   "source": [
    "folder = 'Survey/'\n",
    "source_file = folder + 'Survey.txt'\n",
    "bib_file = folder + 'Survey.bib'\n",
    "refs_file = folder + 'SurveyRefs.txt'\n",
    "target_file = folder + 'SurveyTarget.txt'\n",
    "numbered_refs_file = folder + 'NumberedZoteroID.txt'"
   ]
  },
  {
   "cell_type": "code",
   "execution_count": 2,
   "outputs": [],
   "source": [
    "import bibtexparser\n",
    "import numpy as np\n",
    "import re"
   ],
   "metadata": {
    "collapsed": false,
    "pycharm": {
     "name": "#%%\n"
    }
   }
  },
  {
   "cell_type": "code",
   "execution_count": 3,
   "outputs": [
    {
     "name": "stdout",
     "output_type": "stream",
     "text": [
      "Number of entries: 209\n",
      "Bib refs with url: 178\n",
      "Bib refs with title: 181\n"
     ]
    }
   ],
   "source": [
    "with open(bib_file, encoding=\"utf-8-sig\") as bibtex_file:\n",
    "    bib_database = bibtexparser.load(bibtex_file)\n",
    "\n",
    "## author, year, ID, title\n",
    "print('Number of entries: ' + str(len(bib_database.get_entry_dict())))\n",
    "bib_url_dict = {}\n",
    "bib_title_dict = {}\n",
    "for entry in bib_database.get_entry_list():\n",
    "    if 'doi' in entry.keys():\n",
    "        bib_url_dict[entry['doi'].strip()] = entry['ID']\n",
    "    elif 'url' in entry.keys():\n",
    "        bib_url_dict[entry['url'].strip()] = entry['ID']\n",
    "    if 'title' in entry.keys():\n",
    "        bib_title_dict[entry['title'].replace('{', '').replace('}', '').lower().strip()] = entry['ID']\n",
    "\n",
    "print('Bib refs with url: ' + str(len(bib_url_dict)))\n",
    "print('Bib refs with title: ' + str(len(bib_title_dict)))"
   ],
   "metadata": {
    "collapsed": false,
    "pycharm": {
     "name": "#%%\n"
    }
   }
  },
  {
   "cell_type": "code",
   "execution_count": 4,
   "outputs": [
    {
     "name": "stdout",
     "output_type": "stream",
     "text": [
      "Num gdoc refs: 136\n"
     ]
    }
   ],
   "source": [
    "# Parse references\n",
    "class Reference:\n",
    "    def __init__(self):\n",
    "        self._number = None\n",
    "        self._id = None\n",
    "        self._title = None\n",
    "\n",
    "    def get_number(self):\n",
    "        return self._number\n",
    "\n",
    "    def get_id(self):\n",
    "        return self._id\n",
    "\n",
    "    def get_title(self):\n",
    "        return self._title\n",
    "\n",
    "    def parse(self, line_str):\n",
    "        ## Extract number\n",
    "        point_index = line_str.find('.')\n",
    "        if point_index:\n",
    "            self._number = line_str[:point_index].strip()\n",
    "            line_str = line_str[point_index+1:]\n",
    "\n",
    "        ## Extract author\n",
    "        https_index = line_str.find('https')\n",
    "        if https_index < 0:\n",
    "            https_index = line_str.find('http')\n",
    "\n",
    "        if line_str.find('doi') >= 0:\n",
    "            point_index = line_str.rfind('.')\n",
    "            self._id = line_str[line_str.rfind('org/')+4:point_index].strip()\n",
    "        elif https_index >= 0:\n",
    "            comma_index = line_str.rfind(',')\n",
    "            self._id = line_str[https_index:comma_index].strip()\n",
    "        else:\n",
    "            ## Retrieve title\n",
    "            double_point_index = line_str.find(':')\n",
    "            if double_point_index >= 0:\n",
    "                line_str = line_str[double_point_index+1:]\n",
    "                point_index = line_str.find('.')\n",
    "                parenthesis_index = line_str.find('(')\n",
    "                index = np.min(np.array([point_index, parenthesis_index]))\n",
    "\n",
    "                if point_index:\n",
    "                    self._title = line_str[:index].strip().lower()\n",
    "\n",
    "refs = []\n",
    "refs_dict = {}\n",
    "with open(refs_file, encoding=\"utf-8-sig\") as bibtex_file:\n",
    "    bibtex_str = bibtex_file.readlines()\n",
    "    for line in bibtex_str:\n",
    "        ref = Reference()\n",
    "        ref.parse(line_str=line)\n",
    "        refs.append(ref)\n",
    "        refs_dict[ref.get_number()] = ref\n",
    "\n",
    "print('Num gdoc refs: ' + str(len(refs_dict)))"
   ],
   "metadata": {
    "collapsed": false,
    "pycharm": {
     "name": "#%%\n"
    }
   }
  },
  {
   "cell_type": "code",
   "execution_count": 5,
   "outputs": [],
   "source": [
    "with open(source_file, encoding=\"utf-8-sig\") as file:\n",
    "    source_str = file.read()"
   ],
   "metadata": {
    "collapsed": false,
    "pycharm": {
     "name": "#%%\n"
    }
   }
  },
  {
   "cell_type": "code",
   "execution_count": 6,
   "outputs": [],
   "source": [
    "def find_bib_ref(gdoc_ref):\n",
    "    id = gdoc_ref.get_id()\n",
    "    title = gdoc_ref.get_title()\n",
    "    bib_ref = None\n",
    "\n",
    "    if id is not None:\n",
    "        bib_ref = bib_url_dict.get(id)\n",
    "    elif title is not None:\n",
    "        for key in bib_title_dict:\n",
    "            if key.startswith(title[:int(len(title)/2)]):\n",
    "                bib_ref = bib_title_dict.get(key)\n",
    "                break\n",
    "\n",
    "    return bib_ref"
   ],
   "metadata": {
    "collapsed": false,
    "pycharm": {
     "name": "#%%\n"
    }
   }
  },
  {
   "cell_type": "code",
   "execution_count": 11,
   "outputs": [
    {
     "name": "stdout",
     "output_type": "stream",
     "text": [
      "Failed to catch bibref of [a]\n",
      "<__main__.Reference object at 0x000002AEF8DA4430>\n",
      "<__main__.Reference object at 0x000002AEF8E28D90>\n",
      "<__main__.Reference object at 0x000002AEF8E28E20>\n",
      "<__main__.Reference object at 0x000002AEF8E28E50>\n",
      "<__main__.Reference object at 0x000002AEF8A80F10>\n",
      "<__main__.Reference object at 0x000002AEF8A80100>\n",
      "<__main__.Reference object at 0x000002AEF8E28D90>\n",
      "<__main__.Reference object at 0x000002AEF8A80E20>\n",
      "<__main__.Reference object at 0x000002AEF8E28E50>\n",
      "<__main__.Reference object at 0x000002AEF8E42160>\n",
      "<__main__.Reference object at 0x000002AEF8E421C0>\n",
      "<__main__.Reference object at 0x000002AEF8E42220>\n",
      "<__main__.Reference object at 0x000002AEF8E42280>\n",
      "<__main__.Reference object at 0x000002AEF8E422E0>\n",
      "<__main__.Reference object at 0x000002AEF8E420A0>\n",
      "<__main__.Reference object at 0x000002AEF8E42100>\n",
      "<__main__.Reference object at 0x000002AEF8E422E0>\n",
      "<__main__.Reference object at 0x000002AEF8E422E0>\n",
      "<__main__.Reference object at 0x000002AEF8E42400>\n",
      "<__main__.Reference object at 0x000002AEF8E42460>\n",
      "<__main__.Reference object at 0x000002AEF8E424C0>\n",
      "<__main__.Reference object at 0x000002AEF8E42520>\n",
      "<__main__.Reference object at 0x000002AEF8E42580>\n",
      "<__main__.Reference object at 0x000002AEF8E42580>\n",
      "<__main__.Reference object at 0x000002AEF8E425E0>\n",
      "<__main__.Reference object at 0x000002AEF8E42580>\n",
      "<__main__.Reference object at 0x000002AEF8E42640>\n",
      "<__main__.Reference object at 0x000002AEF8E426A0>\n",
      "<__main__.Reference object at 0x000002AEF8E426A0>\n",
      "<__main__.Reference object at 0x000002AEF8E42760>\n",
      "<__main__.Reference object at 0x000002AEF8E427C0>\n",
      "<__main__.Reference object at 0x000002AEF8E42820>\n",
      "<__main__.Reference object at 0x000002AEF8E42880>\n",
      "<__main__.Reference object at 0x000002AEF8E426A0>\n",
      "<__main__.Reference object at 0x000002AEF8E427C0>\n",
      "<__main__.Reference object at 0x000002AEF8E42820>\n",
      "<__main__.Reference object at 0x000002AEF8E427C0>\n",
      "<__main__.Reference object at 0x000002AEF8E428E0>\n",
      "<__main__.Reference object at 0x000002AEF8E42A60>\n",
      "<__main__.Reference object at 0x000002AEF8E42940>\n",
      "<__main__.Reference object at 0x000002AEF8E42A00>\n",
      "<__main__.Reference object at 0x000002AEF8E42880>\n",
      "<__main__.Reference object at 0x000002AEF8E42820>\n",
      "<__main__.Reference object at 0x000002AEF8E42820>\n",
      "<__main__.Reference object at 0x000002AEF8E42940>\n",
      "<__main__.Reference object at 0x000002AEF8E428E0>\n",
      "<__main__.Reference object at 0x000002AEF8E42880>\n",
      "<__main__.Reference object at 0x000002AEF8E428E0>\n",
      "<__main__.Reference object at 0x000002AEF8E427C0>\n",
      "<__main__.Reference object at 0x000002AEF8E42820>\n",
      "<__main__.Reference object at 0x000002AEF8E42A60>\n",
      "<__main__.Reference object at 0x000002AEF8E42880>\n",
      "<__main__.Reference object at 0x000002AEF8E427C0>\n",
      "<__main__.Reference object at 0x000002AEF8E42820>\n",
      "<__main__.Reference object at 0x000002AEF8E42A00>\n",
      "<__main__.Reference object at 0x000002AEF8E427C0>\n",
      "<__main__.Reference object at 0x000002AEF8E42820>\n",
      "<__main__.Reference object at 0x000002AEF8E428E0>\n",
      "<__main__.Reference object at 0x000002AEF8E42940>\n",
      "<__main__.Reference object at 0x000002AEF8E42A60>\n",
      "<__main__.Reference object at 0x000002AEF8E42BE0>\n",
      "<__main__.Reference object at 0x000002AEF8E42BE0>\n",
      "<__main__.Reference object at 0x000002AEF8E42940>\n",
      "<__main__.Reference object at 0x000002AEF8E42C40>\n",
      "<__main__.Reference object at 0x000002AEF8E42C40>\n",
      "<__main__.Reference object at 0x000002AEF8E42D00>\n",
      "<__main__.Reference object at 0x000002AEF8E42D60>\n",
      "<__main__.Reference object at 0x000002AEF8E42D00>\n",
      "<__main__.Reference object at 0x000002AEF8E42D60>\n",
      "<__main__.Reference object at 0x000002AEF8E42C40>\n",
      "<__main__.Reference object at 0x000002AEF8E42E80>\n",
      "<__main__.Reference object at 0x000002AEF8E42EE0>\n",
      "<__main__.Reference object at 0x000002AEF8E42C40>\n",
      "<__main__.Reference object at 0x000002AEF8E42B80>\n",
      "<__main__.Reference object at 0x000002AEF8E42BE0>\n",
      "<__main__.Reference object at 0x000002AEF8E42C40>\n",
      "<__main__.Reference object at 0x000002AEF8E42BE0>\n",
      "<__main__.Reference object at 0x000002AEF8E42D60>\n",
      "<__main__.Reference object at 0x000002AEF8E42940>\n",
      "<__main__.Reference object at 0x000002AEF8E42C40>\n",
      "<__main__.Reference object at 0x000002AEF8E42D00>\n",
      "<__main__.Reference object at 0x000002AEF8E42C40>\n",
      "<__main__.Reference object at 0x000002AEF8E42E20>\n",
      "<__main__.Reference object at 0x000002AEF8E42CA0>\n",
      "<__main__.Reference object at 0x000002AEF8E44040>\n",
      "<__main__.Reference object at 0x000002AEF8E44070>\n",
      "<__main__.Reference object at 0x000002AEF8E420A0>\n",
      "<__main__.Reference object at 0x000002AEF8E441C0>\n",
      "<__main__.Reference object at 0x000002AEF8E420A0>\n",
      "<__main__.Reference object at 0x000002AEF8E44220>\n",
      "<__main__.Reference object at 0x000002AEF8E44280>\n",
      "<__main__.Reference object at 0x000002AEF8E442E0>\n",
      "<__main__.Reference object at 0x000002AEF8E443D0>\n",
      "<__main__.Reference object at 0x000002AEF8E44460>\n",
      "<__main__.Reference object at 0x000002AEF8E444C0>\n",
      "<__main__.Reference object at 0x000002AEF8E42100>\n",
      "<__main__.Reference object at 0x000002AEF8E44520>\n",
      "<__main__.Reference object at 0x000002AEF8E44580>\n",
      "<__main__.Reference object at 0x000002AEF8E445E0>\n",
      "<__main__.Reference object at 0x000002AEF8E44640>\n",
      "<__main__.Reference object at 0x000002AEF8E446A0>\n",
      "<__main__.Reference object at 0x000002AEF8E44700>\n",
      "<__main__.Reference object at 0x000002AEF8E44730>\n",
      "<__main__.Reference object at 0x000002AEF8E44790>\n",
      "<__main__.Reference object at 0x000002AEF8E447F0>\n",
      "<__main__.Reference object at 0x000002AEF8E44850>\n",
      "<__main__.Reference object at 0x000002AEF8E448B0>\n",
      "<__main__.Reference object at 0x000002AEF8E44910>\n",
      "<__main__.Reference object at 0x000002AEF8E44970>\n",
      "<__main__.Reference object at 0x000002AEF8E449A0>\n",
      "<__main__.Reference object at 0x000002AEF8E44A60>\n",
      "<__main__.Reference object at 0x000002AEF8E42820>\n",
      "<__main__.Reference object at 0x000002AEF8E44AC0>\n",
      "<__main__.Reference object at 0x000002AEF8E44B20>\n",
      "<__main__.Reference object at 0x000002AEF8E44B80>\n",
      "<__main__.Reference object at 0x000002AEF8E44850>\n",
      "<__main__.Reference object at 0x000002AEF8E448B0>\n",
      "<__main__.Reference object at 0x000002AEF8E42820>\n",
      "<__main__.Reference object at 0x000002AEF8E44AC0>\n",
      "<__main__.Reference object at 0x000002AEF8E44B20>\n",
      "<__main__.Reference object at 0x000002AEF8E44B80>\n",
      "<__main__.Reference object at 0x000002AEF8E44C10>\n",
      "<__main__.Reference object at 0x000002AEF8E44C70>\n",
      "<__main__.Reference object at 0x000002AEF8E44CD0>\n",
      "<__main__.Reference object at 0x000002AEF8E44D00>\n",
      "<__main__.Reference object at 0x000002AEF8E44D60>\n",
      "<__main__.Reference object at 0x000002AEF8E443A0>\n",
      "<__main__.Reference object at 0x000002AEF8E44E20>\n",
      "<__main__.Reference object at 0x000002AEF8E44E80>\n",
      "<__main__.Reference object at 0x000002AEF8E44EE0>\n",
      "<__main__.Reference object at 0x000002AEF8E44F40>\n",
      "<__main__.Reference object at 0x000002AEF8E44FA0>\n",
      "<__main__.Reference object at 0x000002AEF8E44DF0>\n",
      "<__main__.Reference object at 0x000002AEF8E30040>\n",
      "<__main__.Reference object at 0x000002AEF8E300A0>\n",
      "<__main__.Reference object at 0x000002AEF8E30100>\n",
      "<__main__.Reference object at 0x000002AEF8E30160>\n",
      "<__main__.Reference object at 0x000002AEF8E301C0>\n",
      "<__main__.Reference object at 0x000002AEF8E30220>\n",
      "<__main__.Reference object at 0x000002AEF8E30280>\n",
      "<__main__.Reference object at 0x000002AEF8E302E0>\n",
      "<__main__.Reference object at 0x000002AEF8E30340>\n",
      "<__main__.Reference object at 0x000002AEF8E303A0>\n",
      "<__main__.Reference object at 0x000002AEF8E30400>\n",
      "<__main__.Reference object at 0x000002AEF8E30460>\n",
      "<__main__.Reference object at 0x000002AEF8E304C0>\n",
      "<__main__.Reference object at 0x000002AEF8E30520>\n",
      "<__main__.Reference object at 0x000002AEF8E30580>\n",
      "<__main__.Reference object at 0x000002AEF8E305E0>\n",
      "<__main__.Reference object at 0x000002AEF8E30640>\n",
      "<__main__.Reference object at 0x000002AEF8E306A0>\n",
      "<__main__.Reference object at 0x000002AEF8E44CD0>\n",
      "<__main__.Reference object at 0x000002AEF8E44D00>\n",
      "<__main__.Reference object at 0x000002AEF8E302E0>\n",
      "<__main__.Reference object at 0x000002AEF8E30640>\n",
      "<__main__.Reference object at 0x000002AEF8E303A0>\n",
      "<__main__.Reference object at 0x000002AEF8E30580>\n",
      "<__main__.Reference object at 0x000002AEF8E30700>\n",
      "<__main__.Reference object at 0x000002AEF8E30760>\n",
      "<__main__.Reference object at 0x000002AEF8E307C0>\n",
      "<__main__.Reference object at 0x000002AEF8E30820>\n",
      "<__main__.Reference object at 0x000002AEF8E30880>\n",
      "<__main__.Reference object at 0x000002AEF8E30700>\n",
      "<__main__.Reference object at 0x000002AEF8E30880>\n",
      "<__main__.Reference object at 0x000002AEF8E30820>\n",
      "<__main__.Reference object at 0x000002AEF8E30760>\n",
      "<__main__.Reference object at 0x000002AEF8E308E0>\n",
      "<__main__.Reference object at 0x000002AEF8E30940>\n",
      "<__main__.Reference object at 0x000002AEF8E309A0>\n",
      "<__main__.Reference object at 0x000002AEF8E30A00>\n",
      "<__main__.Reference object at 0x000002AEF8E30A60>\n",
      "<__main__.Reference object at 0x000002AEF8E30940>\n",
      "<__main__.Reference object at 0x000002AEF8E30A60>\n",
      "<__main__.Reference object at 0x000002AEF8E428E0>\n",
      "<__main__.Reference object at 0x000002AEF8E44040>\n",
      "<__main__.Reference object at 0x000002AEF8E30AC0>\n",
      "<__main__.Reference object at 0x000002AEF8E30B20>\n",
      "<__main__.Reference object at 0x000002AEF8E30B80>\n",
      "<__main__.Reference object at 0x000002AEF8E30BE0>\n",
      "<__main__.Reference object at 0x000002AEF8E30C40>\n",
      "<__main__.Reference object at 0x000002AEF8E30CA0>\n",
      "<__main__.Reference object at 0x000002AEF8E30D00>\n",
      "<__main__.Reference object at 0x000002AEF8E30D60>\n",
      "<__main__.Reference object at 0x000002AEF8E30DC0>\n",
      "<__main__.Reference object at 0x000002AEF8E30E20>\n",
      "<__main__.Reference object at 0x000002AEF8E42760>\n",
      "<__main__.Reference object at 0x000002AEF8E30E80>\n",
      "<__main__.Reference object at 0x000002AEF8E30EE0>\n",
      "<__main__.Reference object at 0x000002AEF8E30F40>\n",
      "Failed to catch bibref of [b]\n",
      "Failed to catch bibref of [c]\n",
      "<__main__.Reference object at 0x000002AEF8E28E50>\n",
      "<__main__.Reference object at 0x000002AEF8E30FA0>\n",
      "Failed to catch bibref of [d]\n",
      "<__main__.Reference object at 0x000002AEF8E30160>\n",
      "<__main__.Reference object at 0x000002AEF8E32070>\n",
      "<__main__.Reference object at 0x000002AEF8E320D0>\n",
      "<__main__.Reference object at 0x000002AEF8E32100>\n",
      "<__main__.Reference object at 0x000002AEF8E426A0>\n",
      "<__main__.Reference object at 0x000002AEF8E32190>\n"
     ]
    }
   ],
   "source": [
    "ref_numbers = re.finditer(r\"\\[([A-Za-z0-9_]+)\\]\", source_str)\n",
    "replace_dict = {}\n",
    "target_str = source_str\n",
    "\n",
    "for number in ref_numbers:\n",
    "    gdoc_ref_raw = source_str[number.start(0)+1:number.end(0)-1]\n",
    "    gdoc_ref = refs_dict.get(gdoc_ref_raw)\n",
    "\n",
    "    if gdoc_ref is not None:\n",
    "        bib_ref_id = find_bib_ref(gdoc_ref)\n",
    "\n",
    "        if bib_ref_id is None:\n",
    "            print('Failed to catch bibref of ' + source_str[number.start(0):number.end(0)])\n",
    "        else:\n",
    "            change_str = '\\citep{'\n",
    "            pre_str = source_str[number.start(0)-4:number.start(0)-1]\n",
    "            if pre_str == 'al.':\n",
    "                change_str = '\\cite{'\n",
    "\n",
    "            bib_ref_id = change_str + bib_ref_id + '}'\n",
    "            target_str = target_str.replace(source_str[number.start(0):number.end(0)], bib_ref_id)\n",
    "    else:\n",
    "        print('Failed to catch bibref of ' + source_str[number.start(0):number.end(0)])\n",
    "\n",
    "## Write target in file\n",
    "with open(target_file, \"w\", encoding=\"utf-8-sig\") as file:\n",
    "    file.write(target_str)"
   ],
   "metadata": {
    "collapsed": false,
    "pycharm": {
     "name": "#%%\n"
    }
   }
  },
  {
   "cell_type": "code",
   "execution_count": 18,
   "outputs": [],
   "source": [
    "numbered_refs = \"\"\n",
    "for i in range(1, len(refs_dict)):\n",
    "    numbered_refs += str(i) + \": \" + find_bib_ref(refs_dict.get(str(i))) + '\\n'\n",
    "\n",
    "with open(numbered_refs_file, \"w\", encoding=\"utf-8-sig\") as file:\n",
    "    file.write(numbered_refs)"
   ],
   "metadata": {
    "collapsed": false,
    "pycharm": {
     "name": "#%%\n"
    }
   }
  },
  {
   "cell_type": "code",
   "execution_count": 34,
   "outputs": [],
   "source": [],
   "metadata": {
    "collapsed": false,
    "pycharm": {
     "name": "#%%\n"
    }
   }
  }
 ],
 "metadata": {
  "kernelspec": {
   "display_name": "Python 3",
   "language": "python",
   "name": "python3"
  },
  "language_info": {
   "codemirror_mode": {
    "name": "ipython",
    "version": 2
   },
   "file_extension": ".py",
   "mimetype": "text/x-python",
   "name": "python",
   "nbconvert_exporter": "python",
   "pygments_lexer": "ipython2",
   "version": "2.7.6"
  }
 },
 "nbformat": 4,
 "nbformat_minor": 0
}